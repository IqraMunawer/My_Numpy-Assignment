{
 "cells": [
  {
   "cell_type": "markdown",
   "metadata": {
    "id": "NgUeapcvmIRh"
   },
   "source": [
    "# **Assignment For Numpy**"
   ]
  },
  {
   "cell_type": "markdown",
   "metadata": {
    "id": "yhr3JicwnA-4"
   },
   "source": [
    "Difficulty Level **Beginner**"
   ]
  },
  {
   "cell_type": "markdown",
   "metadata": {
    "id": "hVPqDJ1SnKSh"
   },
   "source": [
    "1. Import the numpy package under the name np"
   ]
  },
  {
   "cell_type": "code",
   "execution_count": 2,
   "metadata": {
    "id": "SePu31zKmgS-"
   },
   "outputs": [],
   "source": [
    "import numpy as np"
   ]
  },
  {
   "cell_type": "markdown",
   "metadata": {
    "id": "d0gO81krnL7g"
   },
   "source": [
    "2. Create a null vector of size 10 "
   ]
  },
  {
   "cell_type": "code",
   "execution_count": 2,
   "metadata": {
    "id": "2s6o2JPgnSBr"
   },
   "outputs": [],
   "source": [
    "data = np.zeros(10)"
   ]
  },
  {
   "cell_type": "markdown",
   "metadata": {
    "id": "BJTMK03fnS1w"
   },
   "source": [
    "3. Create a vector with values ranging from 10 to 49"
   ]
  },
  {
   "cell_type": "code",
   "execution_count": 3,
   "metadata": {
    "id": "qRXxXuWdnj1M"
   },
   "outputs": [],
   "source": [
    "data1 = np.arange(10,49)"
   ]
  },
  {
   "cell_type": "markdown",
   "metadata": {
    "id": "n63lzg5Onkcn"
   },
   "source": [
    "4. Find the shape of previous array in question 3"
   ]
  },
  {
   "cell_type": "code",
   "execution_count": 4,
   "metadata": {
    "id": "1FueBdqPn_q7"
   },
   "outputs": [
    {
     "data": {
      "text/plain": [
       "(39,)"
      ]
     },
     "execution_count": 4,
     "metadata": {},
     "output_type": "execute_result"
    }
   ],
   "source": [
    "data1.shape"
   ]
  },
  {
   "cell_type": "markdown",
   "metadata": {
    "id": "AzMlQj1MoAVe"
   },
   "source": [
    "5. Print the type of the previous array in question 3"
   ]
  },
  {
   "cell_type": "code",
   "execution_count": 5,
   "metadata": {
    "id": "AO9PYmdWoE1L"
   },
   "outputs": [
    {
     "data": {
      "text/plain": [
       "dtype('int32')"
      ]
     },
     "execution_count": 5,
     "metadata": {},
     "output_type": "execute_result"
    }
   ],
   "source": [
    "data1.dtype"
   ]
  },
  {
   "cell_type": "markdown",
   "metadata": {
    "id": "0qaKS13Yon-U"
   },
   "source": [
    "6. Print the numpy version and the configuration\n"
   ]
  },
  {
   "cell_type": "code",
   "execution_count": 6,
   "metadata": {
    "id": "T3wY24e1oorh"
   },
   "outputs": [
    {
     "name": "stdout",
     "output_type": "stream",
     "text": [
      "1.18.1\n"
     ]
    }
   ],
   "source": [
    "print(np.__version__)"
   ]
  },
  {
   "cell_type": "markdown",
   "metadata": {
    "id": "ZyUUiQf5oyvE"
   },
   "source": [
    "7. Print the dimension of the array in question 3\n"
   ]
  },
  {
   "cell_type": "code",
   "execution_count": 7,
   "metadata": {
    "id": "pLXfuIqIo0vq"
   },
   "outputs": [
    {
     "data": {
      "text/plain": [
       "1"
      ]
     },
     "execution_count": 7,
     "metadata": {},
     "output_type": "execute_result"
    }
   ],
   "source": [
    "data1.ndim"
   ]
  },
  {
   "cell_type": "markdown",
   "metadata": {
    "id": "JYVMuFrqpBdV"
   },
   "source": [
    "8. Create a boolean array with all the True values"
   ]
  },
  {
   "cell_type": "code",
   "execution_count": 14,
   "metadata": {
    "id": "3apZsISzpFKR"
   },
   "outputs": [
    {
     "data": {
      "text/plain": [
       "array([ True,  True,  True,  True,  True,  True,  True,  True,  True,\n",
       "        True])"
      ]
     },
     "execution_count": 14,
     "metadata": {},
     "output_type": "execute_result"
    }
   ],
   "source": [
    "boolean_arr = np.ones( 10 , dtype = bool)\n",
    "boolean_arr"
   ]
  },
  {
   "cell_type": "markdown",
   "metadata": {
    "id": "4zbBooWZpPBU"
   },
   "source": [
    "9. Create a two dimensional array\n",
    "\n",
    "\n"
   ]
  },
  {
   "cell_type": "code",
   "execution_count": 10,
   "metadata": {
    "id": "KfPQEiVIpdTo"
   },
   "outputs": [
    {
     "data": {
      "text/plain": [
       "2"
      ]
     },
     "execution_count": 10,
     "metadata": {},
     "output_type": "execute_result"
    }
   ],
   "source": [
    "array1 = np.array([[2,2], [3,3]])\n",
    "array1.ndim"
   ]
  },
  {
   "cell_type": "markdown",
   "metadata": {
    "id": "do9wPAFbpqC7"
   },
   "source": [
    "10. Create a three dimensional array\n",
    "\n"
   ]
  },
  {
   "cell_type": "code",
   "execution_count": 11,
   "metadata": {
    "id": "ZCO_q-KZqAeW"
   },
   "outputs": [],
   "source": [
    "array1 = np.array([[1,1,1],[2,2,2], [3,3,3]])"
   ]
  },
  {
   "cell_type": "markdown",
   "metadata": {
    "id": "a4iysJ87qEeb"
   },
   "source": [
    "Difficulty Level **Easy**"
   ]
  },
  {
   "cell_type": "markdown",
   "metadata": {
    "id": "DehgqszSqjY6"
   },
   "source": [
    "11. Reverse a vector (first element becomes last)"
   ]
  },
  {
   "cell_type": "code",
   "execution_count": 16,
   "metadata": {
    "id": "tfevmc4VqkWu"
   },
   "outputs": [
    {
     "name": "stdout",
     "output_type": "stream",
     "text": [
      "Original array:\n",
      "[ 1  2  3  4  5  6  7  8  9 10 11 12 13 14 15 16 17 18 19]\n",
      "Reverse array:\n"
     ]
    },
    {
     "data": {
      "text/plain": [
       "array([19, 18, 17, 16, 15, 14, 13, 12, 11, 10,  9,  8,  7,  6,  5,  4,  3,\n",
       "        2,  1])"
      ]
     },
     "execution_count": 16,
     "metadata": {},
     "output_type": "execute_result"
    }
   ],
   "source": [
    "data2 = np.arange(1, 20)\n",
    "print(\"Original array:\")\n",
    "print (data2)\n",
    "print(\"Reverse array:\")\n",
    "data2 = data2[::-1]\n",
    "data2"
   ]
  },
  {
   "cell_type": "markdown",
   "metadata": {
    "id": "yoATXS-qqk_q"
   },
   "source": [
    "12. Create a null vector of size 10 but the fifth value which is 1 "
   ]
  },
  {
   "cell_type": "code",
   "execution_count": 18,
   "metadata": {
    "id": "AheZ32Owqpte"
   },
   "outputs": [
    {
     "name": "stdout",
     "output_type": "stream",
     "text": [
      "[0. 0. 0. 0. 0. 0. 0. 0. 0. 0.]\n",
      "Update fifth value to 1\n",
      "[0. 0. 0. 0. 1. 0. 0. 0. 0. 0.]\n"
     ]
    }
   ],
   "source": [
    "arr1 = np.zeros(10)\n",
    "print(arr1)\n",
    "print(\"Update fifth value to 1\")\n",
    "arr1[4] = 1\n",
    "print(arr1)"
   ]
  },
  {
   "cell_type": "markdown",
   "metadata": {
    "id": "RZRzOBbFsY0w"
   },
   "source": [
    "13. Create a 3x3 identity matrix"
   ]
  },
  {
   "cell_type": "code",
   "execution_count": 19,
   "metadata": {
    "id": "va2ou0BHsvEj"
   },
   "outputs": [
    {
     "name": "stdout",
     "output_type": "stream",
     "text": [
      "[[1. 0. 0.]\n",
      " [0. 1. 0.]\n",
      " [0. 0. 1.]]\n"
     ]
    }
   ],
   "source": [
    "arr2 = np.identity(3)\n",
    "print(arr2)"
   ]
  },
  {
   "cell_type": "code",
   "execution_count": 30,
   "metadata": {
    "id": "59EIQt6otKUB"
   },
   "outputs": [
    {
     "name": "stdout",
     "output_type": "stream",
     "text": [
      "int32\n",
      "after converting the data type \n"
     ]
    },
    {
     "data": {
      "text/plain": [
       "dtype('float64')"
      ]
     },
     "execution_count": 30,
     "metadata": {},
     "output_type": "execute_result"
    }
   ],
   "source": [
    "arr = np.array([1, 2, 3, 4, 5])\n",
    "print(arr.dtype)\n",
    "print(\"after converting the data type \")\n",
    "arr = arr.astype('float64')\n",
    "arr.dtype"
   ]
  },
  {
   "cell_type": "markdown",
   "metadata": {
    "id": "lnN5drkUs6o2"
   },
   "source": [
    "14. arr = np.array([1, 2, 3, 4, 5]) \n",
    "\n",
    "---\n",
    "\n",
    " Convert the data type of the given array from int to float "
   ]
  },
  {
   "cell_type": "markdown",
   "metadata": {
    "id": "fSL2AKJetTes"
   },
   "source": [
    "15. arr1 =          np.array([[1., 2., 3.],\n",
    "\n",
    "                    [4., 5., 6.]])  \n",
    "                      \n",
    "    arr2 = np.array([[0., 4., 1.],\n",
    "     \n",
    "                   [7., 2., 12.]])\n",
    "\n",
    "---\n",
    "\n",
    "\n",
    "Multiply arr1 with arr2\n"
   ]
  },
  {
   "cell_type": "code",
   "execution_count": 34,
   "metadata": {
    "id": "7VDXgRQDuJNV"
   },
   "outputs": [
    {
     "data": {
      "text/plain": [
       "array([[ 0.,  8.,  3.],\n",
       "       [28., 10., 72.]])"
      ]
     },
     "execution_count": 34,
     "metadata": {},
     "output_type": "execute_result"
    }
   ],
   "source": [
    "import numpy as np\n",
    "arr1 = np.array([[1., 2., 3.],\n",
    "                 \n",
    "                 [4., 5., 6.]])  \n",
    "\n",
    "arr2 = np.array([[0., 4., 1.],\n",
    "                 \n",
    "                 [7., 2., 12.]])\n",
    "arr3 = np.multiply(arr1, arr2)\n",
    "arr3"
   ]
  },
  {
   "cell_type": "markdown",
   "metadata": {
    "id": "a8yJ438-uKni"
   },
   "source": [
    "16. arr1 = np.array([[1., 2., 3.],\n",
    "                    [4., 5., 6.]]) \n",
    "                    \n",
    "    arr2 = np.array([[0., 4., 1.], \n",
    "                    [7., 2., 12.]])\n",
    "\n",
    "\n",
    "---\n",
    "\n",
    "Make an array by comparing both the arrays provided above"
   ]
  },
  {
   "cell_type": "code",
   "execution_count": 36,
   "metadata": {
    "id": "3MPDaAlYueF3"
   },
   "outputs": [
    {
     "data": {
      "text/plain": [
       "array([[False, False, False],\n",
       "       [False, False, False]])"
      ]
     },
     "execution_count": 36,
     "metadata": {},
     "output_type": "execute_result"
    }
   ],
   "source": [
    "arr1 = np.array([[1., 2., 3.],\n",
    "\n",
    "            [4., 5., 6.]]) \n",
    "arr2 = np.array([[0., 4., 1.],\n",
    "\n",
    "            [7., 2., 12.]])\n",
    "arr3 = (arr1 == arr2)\n",
    "arr3"
   ]
  },
  {
   "cell_type": "markdown",
   "metadata": {
    "id": "3xiD0eJluewk"
   },
   "source": [
    "17. Extract all odd numbers from arr with values(0-9)"
   ]
  },
  {
   "cell_type": "code",
   "execution_count": 47,
   "metadata": {
    "id": "J_qbt_EuvM7l"
   },
   "outputs": [
    {
     "data": {
      "text/plain": [
       "array([1, 3, 5, 9, 3, 5, 7, 7, 9])"
      ]
     },
     "execution_count": 47,
     "metadata": {},
     "output_type": "execute_result"
    }
   ],
   "source": [
    "arr = np.array([1,2,3,5,9,6,3,4,5,6,6,7,7,8,9])\n",
    "arr[arr%2 ==1]"
   ]
  },
  {
   "cell_type": "markdown",
   "metadata": {
    "id": "zpg5cyLsvPoZ"
   },
   "source": [
    "18. Replace all odd numbers to -1 from previous array"
   ]
  },
  {
   "cell_type": "code",
   "execution_count": 52,
   "metadata": {
    "id": "rXUV1-ULvQdd"
   },
   "outputs": [
    {
     "data": {
      "text/plain": [
       "array([-1,  2, -1, -1, -1,  6, -1,  4, -1,  6,  6, -1, -1,  8, -1])"
      ]
     },
     "execution_count": 52,
     "metadata": {},
     "output_type": "execute_result"
    }
   ],
   "source": [
    "arr = np.array([1,2,3,5,9,6,3,4,5,6,6,7,7,8,9])\n",
    "arr[arr%2 ==1] = -1\n",
    "arr"
   ]
  },
  {
   "cell_type": "markdown",
   "metadata": {
    "id": "FWpHTWTDvjvi"
   },
   "source": [
    "19. arr = np.arange(10)\n",
    "\n",
    "\n",
    "---\n",
    "\n",
    "Replace the values of indexes 5,6,7 and 8 to **12**"
   ]
  },
  {
   "cell_type": "code",
   "execution_count": 12,
   "metadata": {
    "id": "ensZ3lqwvlSb"
   },
   "outputs": [
    {
     "data": {
      "text/plain": [
       "array([ 0,  1,  2,  3,  4, 12, 12, 12,  8,  9])"
      ]
     },
     "execution_count": 12,
     "metadata": {},
     "output_type": "execute_result"
    }
   ],
   "source": [
    "import numpy as np\n",
    "arr = np.arange(10)\n",
    "arr[5:8] = 12\n",
    "arr"
   ]
  },
  {
   "cell_type": "markdown",
   "metadata": {
    "id": "ib-vBffAv0zy"
   },
   "source": [
    "20. Create a 2d array with 1 on the border and 0 inside"
   ]
  },
  {
   "cell_type": "code",
   "execution_count": 72,
   "metadata": {
    "id": "RmzcjNYrwDrM"
   },
   "outputs": [
    {
     "data": {
      "text/plain": [
       "array([[1., 1., 1., 1.],\n",
       "       [1., 0., 0., 1.],\n",
       "       [1., 0., 0., 1.],\n",
       "       [1., 1., 1., 1.]])"
      ]
     },
     "execution_count": 72,
     "metadata": {},
     "output_type": "execute_result"
    }
   ],
   "source": [
    "arr = np.ones((4,4))\n",
    "arr[1:-1,1:-1] = 0\n",
    "arr"
   ]
  },
  {
   "cell_type": "markdown",
   "metadata": {
    "id": "E1diIFSEwEmh"
   },
   "source": [
    "Difficulty Level **Medium**"
   ]
  },
  {
   "cell_type": "markdown",
   "metadata": {
    "id": "eGLZmNb_wKb4"
   },
   "source": [
    "21. arr2d = np.array([[1, 2, 3],\n",
    "\n",
    "                    [4, 5, 6], \n",
    "\n",
    "                    [7, 8, 9]])\n",
    "\n",
    "---\n",
    "\n",
    "Replace the value 5 to 12"
   ]
  },
  {
   "cell_type": "code",
   "execution_count": 109,
   "metadata": {
    "id": "VdUnsUOZwJFz"
   },
   "outputs": [
    {
     "data": {
      "text/plain": [
       "array([[ 1,  2,  3],\n",
       "       [ 4, 12,  6],\n",
       "       [ 7,  8,  9]])"
      ]
     },
     "execution_count": 109,
     "metadata": {},
     "output_type": "execute_result"
    }
   ],
   "source": [
    "arr2d = np.array([[1, 2, 3],\n",
    "\n",
    "            [4, 5, 6], \n",
    "\n",
    "            [7, 8, 9]])\n",
    "arr2d[1][1] = 12\n",
    "arr2d"
   ]
  },
  {
   "cell_type": "markdown",
   "metadata": {
    "id": "TEbFhlPZxaKO"
   },
   "source": [
    "22. arr3d = np.array([[[1, 2, 3], [4, 5, 6]], [[7, 8, 9], [10, 11, 12]]])\n",
    "\n",
    "---\n",
    "Convert all the values of 1st array to 64\n"
   ]
  },
  {
   "cell_type": "code",
   "execution_count": 111,
   "metadata": {
    "id": "eYzephU8xmsg"
   },
   "outputs": [
    {
     "data": {
      "text/plain": [
       "array([[[64, 64, 64],\n",
       "        [64, 64, 64]],\n",
       "\n",
       "       [[ 7,  8,  9],\n",
       "        [10, 11, 12]]])"
      ]
     },
     "execution_count": 111,
     "metadata": {},
     "output_type": "execute_result"
    }
   ],
   "source": [
    "arr3d = np.array([[[1,2,3],[4,5,6]],[[7,8,9],[10,11,12]]])\n",
    "arr3d[0] = 64\n",
    "arr3d"
   ]
  },
  {
   "cell_type": "markdown",
   "metadata": {
    "id": "vZj0Ndvnx6f0"
   },
   "source": [
    "23. Make a 2-Dimensional array with values 0-9 and slice out the first 1st 1-D array from it"
   ]
  },
  {
   "cell_type": "code",
   "execution_count": 125,
   "metadata": {
    "id": "pM4e9YfdyHSv"
   },
   "outputs": [
    {
     "name": "stdout",
     "output_type": "stream",
     "text": [
      "2\n"
     ]
    },
    {
     "data": {
      "text/plain": [
       "array([1, 3, 4, 2, 5])"
      ]
     },
     "execution_count": 125,
     "metadata": {},
     "output_type": "execute_result"
    }
   ],
   "source": [
    "arr2d = np.array([[1,3,4,2,5],[6,7,8,9,0]])\n",
    "print(arr2d.ndim)\n",
    "arr2d[0]"
   ]
  },
  {
   "cell_type": "markdown",
   "metadata": {
    "id": "C3dkW0lZyVps"
   },
   "source": [
    "24. Make a 2-Dimensional array with values 0-9 and slice out the 2nd value from 2nd 1-D array from it"
   ]
  },
  {
   "cell_type": "code",
   "execution_count": 126,
   "metadata": {
    "id": "IrrzK2xgygqV"
   },
   "outputs": [
    {
     "name": "stdout",
     "output_type": "stream",
     "text": [
      "2\n"
     ]
    },
    {
     "data": {
      "text/plain": [
       "array([6, 7, 8, 9, 0])"
      ]
     },
     "execution_count": 126,
     "metadata": {},
     "output_type": "execute_result"
    }
   ],
   "source": [
    "arr2d = np.array([[1,3,4,2,5],[6,7,8,9,0]])\n",
    "print(arr2d.ndim)\n",
    "arr2d[1]"
   ]
  },
  {
   "cell_type": "markdown",
   "metadata": {
    "id": "G3dLwOO9yyrE"
   },
   "source": [
    "25. Make a 2-Dimensional array with values 0-9 and slice out the third column but only the first two rows"
   ]
  },
  {
   "cell_type": "code",
   "execution_count": 154,
   "metadata": {
    "id": "5Bx4fqsLyqGD"
   },
   "outputs": [
    {
     "data": {
      "text/plain": [
       "array([[2],\n",
       "       [7]])"
      ]
     },
     "execution_count": 154,
     "metadata": {},
     "output_type": "execute_result"
    }
   ],
   "source": [
    "arr = np.array([[0,1,2,3,4],[5,6,7,8,9]])\n",
    "arr[0:2, 2:3]"
   ]
  },
  {
   "cell_type": "markdown",
   "metadata": {
    "id": "CQ9YST5jy0IL"
   },
   "source": [
    "26. Create a 10x10 array with random values and find the minimum and maximum values"
   ]
  },
  {
   "cell_type": "code",
   "execution_count": 161,
   "metadata": {
    "id": "lhJPugjQzG6W"
   },
   "outputs": [
    {
     "name": "stdout",
     "output_type": "stream",
     "text": [
      "[[ 0.09506024  1.22451439  1.17191686 -1.02446415 -0.3767817  -0.50926211\n",
      "  -0.16265564  0.76856935  1.67416038  0.09231384]\n",
      " [ 0.75640363 -2.48710332 -0.47975706  0.03854092 -1.32503747  0.17439824\n",
      "   1.02121625 -2.27400254  1.69372744  2.17834243]\n",
      " [ 0.60610759  2.87349454  0.43852876  0.72954523  0.89005451  2.3434759\n",
      "   1.33013778 -0.23050968  0.61043345 -1.49192853]\n",
      " [ 0.42431012  1.02705215  0.32395225  0.13817283  1.09463647 -2.61984125\n",
      "   0.12196547  0.09222184 -0.9684739  -0.69568098]\n",
      " [-0.84260229 -1.8246811   0.18405223  0.7551478   0.14320231 -0.33575023\n",
      "  -0.2973813   0.38386383  1.51264317  0.49525527]\n",
      " [ 1.31532471 -2.66421409 -1.00472265  0.29953632 -1.01478408 -0.82745086\n",
      "  -1.20946685 -1.32584663 -0.04454418  0.31537689]\n",
      " [ 0.39800765  0.84414089  1.65131306  1.57527401  0.70420967  1.02523236\n",
      "   0.56512855 -0.82096178  2.47032954  0.78587197]\n",
      " [ 0.18452997 -1.09868362 -1.14620441  0.63220452  0.02803059 -0.95853297\n",
      "  -0.29013918 -0.40558819 -0.88815483 -0.17754306]\n",
      " [ 1.4907172   1.40851329 -0.22321725 -1.22842034  0.02256437  1.72118702\n",
      "  -2.79639767 -2.44654791 -1.08396776  0.60963388]\n",
      " [ 1.14828931  0.26159075  0.77489097  0.27900512  1.31421958  0.0317837\n",
      "   0.03746034  2.29309313 -0.62439922  0.7865077 ]]\n",
      "minimum value of the array is -2.7963976721822097 \n",
      "maximum value of the array is 2.8734945405444092 \n"
     ]
    }
   ],
   "source": [
    "arr = np.random.randn(10,10)\n",
    "print(arr)\n",
    "print(f\"minimum value of the array is {arr.min()} \")\n",
    "print(f\"maximum value of the array is {arr.max()} \")"
   ]
  },
  {
   "cell_type": "markdown",
   "metadata": {
    "id": "cAgDt6KazHk6"
   },
   "source": [
    "27. a = np.array([1,2,3,2,3,4,3,4,5,6]) b = np.array([7,2,10,2,7,4,9,4,9,8])\n",
    "---\n",
    "Find the common items between a and b\n"
   ]
  },
  {
   "cell_type": "code",
   "execution_count": 162,
   "metadata": {
    "id": "kBXZanxIzs_F"
   },
   "outputs": [
    {
     "name": "stdout",
     "output_type": "stream",
     "text": [
      "[2 4]\n"
     ]
    }
   ],
   "source": [
    "a = np.array([1,2,3,2,3,4,3,4,5,6])\n",
    "b = np.array([7,2,10,2,7,4,9,4,9,8])\n",
    "print(np.intersect1d(a,b))"
   ]
  },
  {
   "cell_type": "markdown",
   "metadata": {
    "id": "lF9IzWOAztpD"
   },
   "source": [
    "28. a = np.array([1,2,3,2,3,4,3,4,5,6])\n",
    "b = np.array([7,2,10,2,7,4,9,4,9,8])\n",
    "\n",
    "---\n",
    "Find the positions where elements of a and b match\n",
    "\n"
   ]
  },
  {
   "cell_type": "code",
   "execution_count": 166,
   "metadata": {
    "id": "JR-mHQLH0HY_"
   },
   "outputs": [
    {
     "name": "stdout",
     "output_type": "stream",
     "text": [
      "(array([1, 3, 5, 7], dtype=int64),)\n"
     ]
    }
   ],
   "source": [
    "a = np.array([1,2,3,2,3,4,3,4,5,6]) \n",
    "b = np.array([7,2,10,2,7,4,9,4,9,8])\n",
    "print(np.where(a==b))"
   ]
  },
  {
   "cell_type": "markdown",
   "metadata": {
    "id": "mMDiefpH0H1x"
   },
   "source": [
    "29.  names = np.array(['Bob', 'Joe', 'Will', 'Bob', 'Will', 'Joe', 'Joe'])  data = np.random.randn(7, 4)\n",
    "\n",
    "---\n",
    "Find all the values from array **data** where the values from array **names** are not equal to **Will**\n"
   ]
  },
  {
   "cell_type": "code",
   "execution_count": 3,
   "metadata": {
    "id": "gfc1Lpf81ZSR"
   },
   "outputs": [
    {
     "data": {
      "text/plain": [
       "array([[ 1.4533799 ,  0.92135096, -1.3732312 , -0.59087768],\n",
       "       [ 0.132447  ,  0.4402212 ,  0.89653266, -0.29353398],\n",
       "       [-0.03380972,  0.15910626,  0.21234786,  0.39538268],\n",
       "       [ 1.95454824,  0.16774749,  0.56767643,  2.56180497],\n",
       "       [-1.07051635, -0.81350013, -0.99642117,  0.36703682]])"
      ]
     },
     "execution_count": 3,
     "metadata": {},
     "output_type": "execute_result"
    }
   ],
   "source": [
    "names = np.array(['Bob', 'Joe', 'Will', 'Bob', 'Will', 'Joe', 'Joe']) \n",
    "data = np.random.randn(7, 4)\n",
    "x = data[names != \"Will\"] \n",
    "x"
   ]
  },
  {
   "cell_type": "markdown",
   "metadata": {
    "id": "52zEjDMf1aXS"
   },
   "source": [
    "30. names = np.array(['Bob', 'Joe', 'Will', 'Bob', 'Will', 'Joe', 'Joe']) data = np.random.randn(7, 4)\n",
    "\n",
    "---\n",
    "Find all the values from array **data** where the values from array **names** are not equal to **Will** and **Joe**\n",
    "\n"
   ]
  },
  {
   "cell_type": "code",
   "execution_count": 214,
   "metadata": {
    "id": "8RYG0kLO1mHw"
   },
   "outputs": [
    {
     "data": {
      "text/plain": [
       "array([[ 0.        ,  0.        ,  0.        ,  0.        ],\n",
       "       [-1.05895104,  1.50007271,  0.16019416,  1.76169127],\n",
       "       [ 0.        ,  0.        ,  0.        ,  0.        ],\n",
       "       [ 0.        ,  0.        ,  0.        ,  0.        ],\n",
       "       [ 0.        ,  0.        ,  0.        ,  0.        ],\n",
       "       [-0.65709443, -1.28584695, -0.3674925 ,  0.77641392],\n",
       "       [-0.10554672,  0.66137724, -0.80546989,  0.69123814]])"
      ]
     },
     "execution_count": 214,
     "metadata": {},
     "output_type": "execute_result"
    }
   ],
   "source": [
    "names = np.array(['Bob', 'Joe', 'Will', 'Bob', 'Will', 'Joe', 'Joe'])\n",
    "data = np.random.randn(7, 4)\n",
    "data[names != (\"Will\" and \"Joe\")] = 0\n",
    "data"
   ]
  },
  {
   "cell_type": "markdown",
   "metadata": {
    "id": "Q7hjf2bd2dCY"
   },
   "source": [
    "Difficulty Level **Hard**"
   ]
  },
  {
   "cell_type": "markdown",
   "metadata": {
    "id": "b48g7aRA2jVM"
   },
   "source": [
    "31. Create a 2D array of shape 5x3 to contain decimal numbers between 1 and 15."
   ]
  },
  {
   "cell_type": "code",
   "execution_count": 174,
   "metadata": {
    "id": "EbwfSCrW2f9_"
   },
   "outputs": [
    {
     "name": "stdout",
     "output_type": "stream",
     "text": [
      "(5, 3)\n",
      "2\n"
     ]
    }
   ],
   "source": [
    "arr = np.array([[1,2,3],[4,5,6],[7,8,9],[11,12,13],[14,15,0]])\n",
    "print(arr.shape)\n",
    "print(arr.ndim)"
   ]
  },
  {
   "cell_type": "markdown",
   "metadata": {
    "id": "Ei_nDHtO3qBk"
   },
   "source": [
    "32. Create an array of shape (2, 2, 4) with decimal numbers between 1 to 16."
   ]
  },
  {
   "cell_type": "code",
   "execution_count": 180,
   "metadata": {
    "id": "phOxVpBM4M6D"
   },
   "outputs": [
    {
     "data": {
      "text/plain": [
       "(2, 2, 4)"
      ]
     },
     "execution_count": 180,
     "metadata": {},
     "output_type": "execute_result"
    }
   ],
   "source": [
    "arr2 = np.array([[[1,2,3,4],[5,6,7,8]],[[9,10,11,12],[13,14,15,16]]])\n",
    "arr2.shape"
   ]
  },
  {
   "cell_type": "markdown",
   "metadata": {
    "id": "uyiQaMjA4d_x"
   },
   "source": [
    "33. Swap axes of the array you created in Question 32"
   ]
  },
  {
   "cell_type": "code",
   "execution_count": 194,
   "metadata": {
    "id": "w2m9p8064VtR"
   },
   "outputs": [
    {
     "data": {
      "text/plain": [
       "array([[[ 1,  9],\n",
       "        [ 5, 13]],\n",
       "\n",
       "       [[ 2, 10],\n",
       "        [ 6, 14]],\n",
       "\n",
       "       [[ 3, 11],\n",
       "        [ 7, 15]],\n",
       "\n",
       "       [[ 4, 12],\n",
       "        [ 8, 16]]])"
      ]
     },
     "execution_count": 194,
     "metadata": {},
     "output_type": "execute_result"
    }
   ],
   "source": [
    "arr2 = np.array([[[1,2,3,4],[5,6,7,8]],[[9,10,11,12],[13,14,15,16]]])\n",
    "np.swapaxes(arr2,0,2)"
   ]
  },
  {
   "cell_type": "markdown",
   "metadata": {
    "id": "2dlU_yUR4mVZ"
   },
   "source": [
    "34. Create an array of size 10, and find the square root of every element in the array, if the values less than 0.5, replace them with 0"
   ]
  },
  {
   "cell_type": "code",
   "execution_count": 222,
   "metadata": {
    "id": "tmBabEJ-5JgB"
   },
   "outputs": [
    {
     "data": {
      "text/plain": [
       "array([0.        , 1.        , 1.41421356, 1.73205081, 2.        ,\n",
       "       2.23606798, 2.44948974, 2.64575131, 2.82842712, 3.        ])"
      ]
     },
     "execution_count": 222,
     "metadata": {},
     "output_type": "execute_result"
    }
   ],
   "source": [
    "arr3 = np.arange(10)\n",
    "np.sqrt(arr3)"
   ]
  },
  {
   "cell_type": "markdown",
   "metadata": {
    "id": "SNAM4dpu5RKA"
   },
   "source": [
    "35. Create two random arrays of range 12 and make an array with the maximum values between each element of the two arrays"
   ]
  },
  {
   "cell_type": "code",
   "execution_count": 234,
   "metadata": {
    "id": "3pxebU2b5q9Z"
   },
   "outputs": [
    {
     "name": "stdout",
     "output_type": "stream",
     "text": [
      "[-0.79971949  0.35764351  0.74284804 -0.137484   -0.07348051 -0.22423268\n",
      "  1.05698464 -0.30648169  1.74424601 -2.56387512  0.02112406  0.64198509]\n",
      "[ 0.25457777 -1.38426725  0.85455443  0.94728818  0.92589943 -1.50693732\n",
      "  0.30997279 -1.77063232 -2.05170369  1.36451148  0.60316873 -1.74821546]\n"
     ]
    },
    {
     "data": {
      "text/plain": [
       "array([ 0.25457777,  0.35764351,  0.85455443,  0.94728818,  0.92589943,\n",
       "       -0.22423268,  1.05698464, -0.30648169,  1.74424601,  1.36451148,\n",
       "        0.60316873,  0.64198509])"
      ]
     },
     "execution_count": 234,
     "metadata": {},
     "output_type": "execute_result"
    }
   ],
   "source": [
    "arr4 = np.random.randn(12)\n",
    "arr5 = np.random.randn(12)\n",
    "print(arr4)\n",
    "print(arr5)\n",
    "np.maximum.reduce([arr4,arr5])"
   ]
  },
  {
   "cell_type": "markdown",
   "metadata": {
    "id": "fz_bpqm28qmD"
   },
   "source": [
    "36. names = np.array(['Bob', 'Joe', 'Will', 'Bob', 'Will', 'Joe', 'Joe'])\n",
    "\n",
    "---\n",
    "Find the unique names and sort them out!\n"
   ]
  },
  {
   "cell_type": "code",
   "execution_count": 246,
   "metadata": {
    "id": "hiSNMgcY87Ey"
   },
   "outputs": [
    {
     "data": {
      "text/plain": [
       "array(['Bob', 'Joe', 'Will'], dtype='<U4')"
      ]
     },
     "execution_count": 246,
     "metadata": {},
     "output_type": "execute_result"
    }
   ],
   "source": [
    "names = np.array(['Bob', 'Joe', 'Will', 'Bob', 'Will', 'Joe', 'Joe'])\n",
    "np.sort(np.unique(names))"
   ]
  },
  {
   "cell_type": "markdown",
   "metadata": {
    "id": "dguMNzob870H"
   },
   "source": [
    "37. a = np.array([1,2,3,4,5])\n",
    "b = np.array([5,6,7,8,9])\n",
    "\n",
    "---\n",
    "From array a remove all items present in array b\n",
    "\n"
   ]
  },
  {
   "cell_type": "code",
   "execution_count": 247,
   "metadata": {
    "id": "eCNJXPvK9IAr"
   },
   "outputs": [
    {
     "data": {
      "text/plain": [
       "array([1, 2, 3, 4])"
      ]
     },
     "execution_count": 247,
     "metadata": {},
     "output_type": "execute_result"
    }
   ],
   "source": [
    "a = np.array([1,2,3,4,5])\n",
    "b = np.array([5,6,7,8,9])\n",
    "np.setdiff1d(a, b)"
   ]
  },
  {
   "cell_type": "markdown",
   "metadata": {
    "id": "gz4Dvd4b_Akh"
   },
   "source": [
    "38.  Following is the input NumPy array delete column two and insert following new column in its place.\n",
    "\n",
    "---\n",
    "sampleArray = numpy.array([[34,43,73],[82,22,12],[53,94,66]]) \n",
    "\n",
    "\n",
    "---\n",
    "\n",
    "newColumn = numpy.array([[10,10,10]])\n"
   ]
  },
  {
   "cell_type": "code",
   "execution_count": 30,
   "metadata": {
    "id": "lLWAJWJJ_I3d"
   },
   "outputs": [
    {
     "name": "stdout",
     "output_type": "stream",
     "text": [
      "[[34 43 73]\n",
      " [82 22 12]\n",
      " [53 94 66]]\n",
      "[[34 73]\n",
      " [82 12]\n",
      " [53 66]]\n",
      "[[34 10 73]\n",
      " [82 10 12]\n",
      " [53 10 66]]\n"
     ]
    }
   ],
   "source": [
    "sampleArray = np.array([[34,43,73],[82,22,12],[53,94,66]])\n",
    "print(sampleArray[0:3])\n",
    "sampleArray = np.delete(sampleArray, 1 , 1)\n",
    "print(sampleArray)\n",
    "newColumn = np.array([[10,10,10]])\n",
    "NewArr = np.insert(sampleArray,1, newColumn, axis = 1 )\n",
    "print(NewArr)"
   ]
  },
  {
   "cell_type": "markdown",
   "metadata": {
    "id": "1lIfmbQt_J_W"
   },
   "source": [
    "39. x = np.array([[1., 2., 3.], [4., 5., 6.]]) y = np.array([[6., 23.], [-1, 7], [8, 9]])\n",
    "\n",
    "\n",
    "---\n",
    "Find the dot product of the above two matrix\n"
   ]
  },
  {
   "cell_type": "code",
   "execution_count": 248,
   "metadata": {
    "id": "fV2-vXcR_vmu"
   },
   "outputs": [
    {
     "data": {
      "text/plain": [
       "array([[ 28.,  64.],\n",
       "       [ 67., 181.]])"
      ]
     },
     "execution_count": 248,
     "metadata": {},
     "output_type": "execute_result"
    }
   ],
   "source": [
    "x = np.array([[1., 2., 3.], [4., 5., 6.]]) \n",
    "y = np.array([[6., 23.], [-1, 7], [8, 9]])\n",
    "np.dot(x,y)"
   ]
  },
  {
   "cell_type": "markdown",
   "metadata": {
    "id": "5U-4odUw_wP0"
   },
   "source": [
    "40. Generate a matrix of 20 random values and find its cumulative sum"
   ]
  },
  {
   "cell_type": "code",
   "execution_count": 262,
   "metadata": {
    "id": "_oOHdiYEAF8N"
   },
   "outputs": [
    {
     "name": "stdout",
     "output_type": "stream",
     "text": [
      "[[ 1.11995663e+00  1.38302498e+00  5.17943879e-01  2.03282660e-01\n",
      "   7.59284361e-01 -1.01249118e+00 -1.26718223e+00 -1.35006760e+00\n",
      "   4.62163432e-01 -1.43901656e+00  8.46829704e-01  6.58164351e-01\n",
      "   3.14873495e-01 -1.04552815e-01 -1.28305861e+00 -4.34608540e-01\n",
      "  -1.16478009e-01 -9.43350998e-01  1.55348594e+00 -1.10025501e+00]\n",
      " [ 3.94007122e-01 -2.81697178e+00 -4.91561772e-01  8.93949978e-01\n",
      "  -8.94210221e-01 -3.77970789e-03  1.27083016e+00 -8.24069275e-01\n",
      "  -7.33232538e-01  1.22297222e+00 -1.20142133e+00 -1.46530372e+00\n",
      "  -7.95635743e-01 -9.54180610e-01  2.44068728e-02 -3.10288775e-01\n",
      "  -2.54143606e-01 -1.70255736e+00 -1.23527176e+00 -1.56700511e+00]\n",
      " [ 4.42262572e-01  1.78072176e+00 -1.20760624e+00 -5.36935105e-01\n",
      "  -1.74168802e+00 -4.83869310e-01  2.44096404e-01 -1.03494376e+00\n",
      "   3.32987562e-01  1.04974101e+00 -2.10025292e-01 -7.24270294e-02\n",
      "   1.16157841e+00 -2.98893879e-01 -1.12892067e+00 -3.04150804e-02\n",
      "  -1.60881180e-01  1.95246309e+00 -1.23223988e+00 -9.33516640e-02]\n",
      " [-1.62574824e+00 -6.81199904e-02  2.53571492e-01  4.33491843e-02\n",
      "   1.84164371e+00 -1.41456383e+00 -2.21479971e-01 -5.52218940e-02\n",
      "  -1.22409131e+00 -2.87612621e-01 -8.83028494e-01  5.40727543e-01\n",
      "  -3.12350213e-01 -6.46518619e-01  6.29357014e-01  6.46904900e-01\n",
      "  -1.05559152e+00  6.80792467e-01 -8.83951716e-01 -1.26403311e-01]\n",
      " [-1.12751136e+00 -9.54817401e-01 -8.25635819e-01  1.08754091e+00\n",
      "   8.08370946e-01 -6.76291090e-01 -2.37704690e-01  3.45448999e-01\n",
      "  -9.06123349e-01  1.06287966e+00  1.75206702e-01  3.49468842e-01\n",
      "  -1.78093832e-01 -3.83992719e-01  1.43571779e+00  2.25195218e-01\n",
      "   1.84329337e+00 -1.36940531e+00 -4.06710160e-02  9.12446395e-02]\n",
      " [ 1.14492948e+00 -4.00964163e-01  2.87512527e-01  1.81277781e-01\n",
      "   1.47686421e+00 -1.09664971e+00 -7.65704643e-01 -3.02079507e-01\n",
      "  -1.84697270e+00  1.27490020e+00  8.56590206e-02 -1.08590524e+00\n",
      "  -3.41466836e-01  1.95728179e+00 -1.36970648e+00 -1.38519676e+00\n",
      "   6.49519518e-01 -1.67281335e-01 -6.44252332e-01  9.78255769e-02]\n",
      " [-9.11979619e-01 -5.13582132e-01  5.20971006e-01 -2.43367892e+00\n",
      "  -5.49021618e-03 -3.46862661e-01  1.48648865e+00  1.09358306e+00\n",
      "  -1.54376524e+00 -1.72314870e+00 -9.87997168e-01 -1.05863060e+00\n",
      "  -1.26069444e+00 -4.19645955e-01 -7.09160061e-01  2.15551315e-01\n",
      "  -1.65876923e+00 -1.01316142e-03  6.60571910e-01 -1.49400915e+00]\n",
      " [ 2.26447873e-01  6.15542235e-01 -7.64260762e-01 -1.38228135e+00\n",
      "  -1.16720237e+00 -4.64081386e-01 -6.92956225e-01 -9.69179392e-01\n",
      "   4.54936408e-01 -9.22302288e-02  1.97421644e+00  6.51154126e-01\n",
      "   1.39716946e+00 -2.08566160e+00  1.87037096e+00  8.72538608e-02\n",
      "   1.64505359e+00  1.11077967e+00 -9.76737331e-01 -1.69979991e+00]\n",
      " [ 1.57771150e-01  7.21159071e-01  8.94620262e-02  6.60519081e-01\n",
      "  -1.25500255e+00 -5.60706059e-01  2.66872332e-01 -3.73259337e-01\n",
      "   3.31998380e-01  7.03088916e-01 -1.08320376e+00  4.59193301e-01\n",
      "  -5.35313963e-01  1.66579315e-01 -5.91008229e-01  1.63043349e-01\n",
      "   6.61715364e-01  2.94079468e-01  3.07043177e-01 -9.34802905e-01]\n",
      " [ 8.74834144e-01 -6.63217393e-01  5.71079535e-01 -2.15107268e-02\n",
      "   4.28251689e-01  5.07557316e-01 -2.00550080e-01  7.24194556e-01\n",
      "  -1.19059946e+00 -1.16142232e+00 -4.69281231e-01  1.11117257e+00\n",
      "  -7.70822644e-01  1.17553084e+00 -8.77090484e-01  4.92249541e-01\n",
      "  -3.79644649e-01 -1.22819094e+00 -3.82191527e-01 -8.85544271e-01]\n",
      " [ 4.20351334e-01  1.76271662e-01  2.98831636e-01 -2.28821458e+00\n",
      "  -2.30142961e+00  3.76619027e-01 -6.17339969e-01  6.29238502e-02\n",
      "  -8.08476981e-01  3.68526322e-01  3.07805459e-01  1.42130529e+00\n",
      "   4.86944834e-01  1.04313450e-01 -9.89307055e-01  4.85476826e-01\n",
      "   3.22676671e-01 -8.60396433e-01 -3.91148766e-01 -1.30685968e+00]\n",
      " [-2.41668790e-01  1.74627691e-01 -1.17348610e+00 -8.93076624e-01\n",
      "   1.37011179e+00 -7.83020175e-01  2.49738782e+00 -4.64940421e-01\n",
      "   1.21478257e+00  1.82839762e-01 -2.15641879e-01 -1.42641519e+00\n",
      "  -7.26314391e-01 -2.00918558e-01  1.41459594e+00 -1.80977773e-01\n",
      "  -1.01784082e+00  1.41760141e+00  5.17623781e-01 -9.97229491e-01]\n",
      " [-4.83894909e-01  4.25001912e-01  8.72034404e-01  2.31829530e+00\n",
      "   3.08305762e-01  6.62504932e-01  8.16448548e-01 -2.07005787e+00\n",
      "   1.93459288e-01 -1.40228079e+00  9.95151028e-01  1.20105676e-01\n",
      "  -1.78124028e+00 -1.02533159e+00  1.88263372e-01  3.37221085e-03\n",
      "   5.50467628e-01 -1.28609336e+00 -8.98374896e-01  1.17679050e+00]\n",
      " [ 9.77455757e-03 -1.18259392e-01  8.60933290e-01  6.10418548e-01\n",
      "   5.38626166e-01  6.11981437e-01  4.56595284e-01 -1.14712450e-01\n",
      "   5.45403789e-01  2.11066576e+00 -1.05193265e+00 -6.27489939e-01\n",
      "   5.29143754e-02  5.70963451e-01 -4.57853461e-01 -9.20416616e-01\n",
      "   7.65002385e-01 -4.18094094e-01  1.20660252e-01  3.48846738e-01]\n",
      " [-1.42499805e+00  1.61189222e+00  8.81729959e-02  9.64200448e-01\n",
      "  -6.46881325e-02  1.39517678e+00 -2.01738563e-01  7.43699609e-01\n",
      "   1.73826366e-01  1.72612594e+00 -1.06282455e-01  1.07703928e+00\n",
      "   3.04866524e-01 -1.22561748e-01 -9.21122820e-01  1.19038736e+00\n",
      "   2.56340933e-01 -1.52379036e+00  5.64599368e-01  1.96670291e+00]\n",
      " [-4.05561753e-01  1.19282333e-01  2.26814450e-01 -4.76898780e-02\n",
      "   1.70629890e+00  5.49747186e-01  2.02187866e-01  3.22975101e-01\n",
      "  -6.32795868e-01  1.30719976e+00  1.49073248e+00  6.12168023e-01\n",
      "   6.16817148e-01 -1.32365048e+00 -2.29983041e+00 -1.99099298e+00\n",
      "  -5.73722244e-02  1.59148661e+00 -1.01212705e+00  6.19991658e-01]\n",
      " [-3.21687586e-01  1.77688696e+00  6.04819100e-01  1.30871131e-01\n",
      "   9.53082628e-01  1.01766199e+00 -2.61846914e-03 -1.08245655e+00\n",
      "  -1.39677953e+00  1.58622106e-01  3.14531197e-01 -8.70990929e-01\n",
      "  -2.74301794e-01 -2.11202226e-01  5.27605292e-01  3.51940537e-01\n",
      "   1.16675243e+00 -7.20397941e-01 -1.20914492e+00 -1.04522245e-01]\n",
      " [-9.08943195e-01  6.83586509e-02 -1.01867750e+00  3.72742946e-01\n",
      "   7.98251494e-01  1.73560720e+00 -5.72903642e-01 -5.86326452e-01\n",
      "  -1.27729973e+00 -3.47689322e-01  3.27766653e-01 -1.23884300e+00\n",
      "   6.21787371e-01  2.08912622e+00 -4.64866963e-01 -1.14458608e-02\n",
      "   7.74012145e-01  7.39077642e-01 -2.50273040e-01  3.81918141e-01]\n",
      " [-3.86568533e-01 -1.78929393e+00 -4.76863536e-01  1.96206119e-01\n",
      "   7.11305608e-01 -1.16760518e+00  1.44854774e+00  7.84438839e-01\n",
      "   1.05249642e-01 -9.22841196e-02 -6.34097381e-01 -2.84268979e+00\n",
      "  -2.12769177e-01 -1.44649351e+00  1.04379387e+00 -5.61364719e-01\n",
      "   3.01030643e-01  1.32279645e+00 -5.55098724e-01 -5.19907565e-01]\n",
      " [ 1.17781745e-01  1.13101914e+00 -1.21487251e-01  9.23020092e-02\n",
      "  -3.64557600e-01  1.33974938e+00  4.20970838e-01 -8.73042331e-01\n",
      "  -1.04317388e+00 -2.01658589e+00 -1.69426627e+00  2.21251121e-01\n",
      "  -7.33320467e-01 -1.93254866e+00  1.63259637e+00 -3.76566206e-01\n",
      "   4.52245985e-01  3.55616052e-01 -8.72817041e-01  6.50133657e-01]]\n"
     ]
    },
    {
     "data": {
      "text/plain": [
       "array([  1.11995663,   2.50298161,   3.02092549,   3.22420815,\n",
       "         3.98349251,   2.97100133,   1.7038191 ,   0.35375151,\n",
       "         0.81591494,  -0.62310162,   0.22372808,   0.88189243,\n",
       "         1.19676593,   1.09221311,  -0.1908455 ,  -0.62545404,\n",
       "        -0.74193205,  -1.68528305,  -0.13179711,  -1.23205211,\n",
       "        -0.83804499,  -3.65501677,  -4.14657854,  -3.25262857,\n",
       "        -4.14683879,  -4.15061849,  -2.87978833,  -3.70385761,\n",
       "        -4.43709015,  -3.21411792,  -4.41553925,  -5.88084297,\n",
       "        -6.67647872,  -7.63065933,  -7.60625245,  -7.91654123,\n",
       "        -8.17068483,  -9.87324219, -11.10851395, -12.67551906,\n",
       "       -12.23325649, -10.45253473, -11.66014097, -12.19707607,\n",
       "       -13.93876409, -14.4226334 , -14.178537  , -15.21348076,\n",
       "       -14.8804932 , -13.83075219, -14.04077749, -14.11320451,\n",
       "       -12.95162611, -13.25051998, -14.37944066, -14.40985574,\n",
       "       -14.57073692, -12.61827383, -13.85051372, -13.94386538,\n",
       "       -15.56961362, -15.63773361, -15.38416212, -15.34081294,\n",
       "       -13.49916923, -14.91373306, -15.13521303, -15.19043492,\n",
       "       -16.41452624, -16.70213886, -17.58516735, -17.04443981,\n",
       "       -17.35679002, -18.00330864, -17.37395163, -16.72704673,\n",
       "       -17.78263825, -17.10184578, -17.9857975 , -18.11220081,\n",
       "       -19.23971217, -20.19452957, -21.02016539, -19.93262447,\n",
       "       -19.12425353, -19.80054462, -20.03824931, -19.69280031,\n",
       "       -20.59892366, -19.53604399, -19.36083729, -19.01136845,\n",
       "       -19.18946228, -19.573455  , -18.13773721, -17.91254199,\n",
       "       -16.06924862, -17.43865393, -17.47932495, -17.38808031,\n",
       "       -16.24315083, -16.64411499, -16.35660247, -16.17532469,\n",
       "       -14.69846048, -15.79511019, -16.56081483, -16.86289434,\n",
       "       -18.70986704, -17.43496684, -17.34930782, -18.43521306,\n",
       "       -18.7766799 , -16.81939811, -18.18910458, -19.57430135,\n",
       "       -18.92478183, -19.09206317, -19.7363155 , -19.63848992,\n",
       "       -20.55046954, -21.06405167, -20.54308067, -22.97675958,\n",
       "       -22.9822498 , -23.32911246, -21.84262381, -20.74904075,\n",
       "       -22.29280599, -24.01595469, -25.00395186, -26.06258246,\n",
       "       -27.3232769 , -27.74292285, -28.45208292, -28.2365316 ,\n",
       "       -29.89530083, -29.89631399, -29.23574208, -30.72975123,\n",
       "       -30.50330336, -29.88776113, -30.65202189, -32.03430324,\n",
       "       -33.20150561, -33.665587  , -34.35854322, -35.32772261,\n",
       "       -34.87278621, -34.96501644, -32.9908    , -32.33964587,\n",
       "       -30.94247641, -33.02813802, -31.15776705, -31.07051319,\n",
       "       -29.4254596 , -28.31467993, -29.29141726, -30.99121717,\n",
       "       -30.83344602, -30.11228695, -30.02282492, -29.36230584,\n",
       "       -30.61730839, -31.17801445, -30.91114212, -31.28440145,\n",
       "       -30.95240307, -30.24931416, -31.33251791, -30.87332461,\n",
       "       -31.40863857, -31.24205926, -31.83306749, -31.67002414,\n",
       "       -31.00830877, -30.71422931, -30.40718613, -31.34198904,\n",
       "       -30.46715489, -31.13037228, -30.55929275, -30.58080348,\n",
       "       -30.15255179, -29.64499447, -29.84554455, -29.12135   ,\n",
       "       -30.31194946, -31.47337178, -31.94265301, -30.83148044,\n",
       "       -31.60230308, -30.42677224, -31.30386273, -30.81161319,\n",
       "       -31.19125784, -32.41944878, -32.80164031, -33.68718458,\n",
       "       -33.26683324, -33.09056158, -32.79172994, -35.07994453,\n",
       "       -37.38137413, -37.0047551 , -37.62209507, -37.55917122,\n",
       "       -38.3676482 , -37.99912188, -37.69131642, -36.27001114,\n",
       "       -35.7830663 , -35.67875285, -36.66805991, -36.18258308,\n",
       "       -35.85990641, -36.72030284, -37.11145161, -38.41831129,\n",
       "       -38.65998008, -38.48535239, -39.65883848, -40.55191511,\n",
       "       -39.18180332, -39.96482349, -37.46743568, -37.9323761 ,\n",
       "       -36.71759353, -36.53475376, -36.75039564, -38.17681083,\n",
       "       -38.90312522, -39.10404378, -37.68944784, -37.87042561,\n",
       "       -38.88826643, -37.47066502, -36.95304124, -37.95027073,\n",
       "       -38.43416564, -38.00916373, -37.13712932, -34.81883403,\n",
       "       -34.51052826, -33.84802333, -33.03157478, -35.10163266,\n",
       "       -34.90817337, -36.31045416, -35.31530313, -35.19519746,\n",
       "       -36.97643774, -38.00176933, -37.81350595, -37.81013374,\n",
       "       -37.25966611, -38.54575948, -39.44413437, -38.26734388,\n",
       "       -38.25756932, -38.37582871, -37.51489542, -36.90447687,\n",
       "       -36.36585071, -35.75386927, -35.29727398, -35.41198643,\n",
       "       -34.86658264, -32.75591689, -33.80784954, -34.43533948,\n",
       "       -34.3824251 , -33.81146165, -34.26931511, -35.18973173,\n",
       "       -34.42472934, -34.84282344, -34.72216319, -34.37331645,\n",
       "       -35.79831449, -34.18642227, -34.09824927, -33.13404883,\n",
       "       -33.19873696, -31.80356018, -32.00529874, -31.26159913,\n",
       "       -31.08777276, -29.36164682, -29.46792928, -28.39089   ,\n",
       "       -28.08602348, -28.20858523, -29.12970805, -27.93932069,\n",
       "       -27.68297976, -29.20677011, -28.64217075, -26.67546784,\n",
       "       -27.08102959, -26.96174726, -26.73493281, -26.78262268,\n",
       "       -25.07632379, -24.5265766 , -24.32438873, -24.00141363,\n",
       "       -24.6342095 , -23.32700974, -21.83627725, -21.22410923,\n",
       "       -20.60729208, -21.93094257, -24.23077297, -26.22176595,\n",
       "       -26.27913818, -24.68765157, -25.69977862, -25.07978696,\n",
       "       -25.40147455, -23.62458759, -23.01976849, -22.88889736,\n",
       "       -21.93581473, -20.91815274, -20.92077121, -22.00322776,\n",
       "       -23.4000073 , -23.24138519, -22.92685399, -23.79784492,\n",
       "       -24.07214672, -24.28334894, -23.75574365, -23.40380311,\n",
       "       -22.23705068, -22.95744862, -24.16659354, -24.27111579,\n",
       "       -25.18005898, -25.11170033, -26.13037783, -25.75763489,\n",
       "       -24.95938339, -23.2237762 , -23.79667984, -24.38300629,\n",
       "       -25.66030602, -26.00799534, -25.68022869, -26.91907168,\n",
       "       -26.29728431, -24.20815809, -24.67302506, -24.68447092,\n",
       "       -23.91045877, -23.17138113, -23.42165417, -23.03973603,\n",
       "       -23.42630456, -25.21559849, -25.69246203, -25.49625591,\n",
       "       -24.7849503 , -25.95255548, -24.50400775, -23.71956891,\n",
       "       -23.61431927, -23.70660339, -24.34070077, -27.18339056,\n",
       "       -27.39615974, -28.84265325, -27.79885938, -28.3602241 ,\n",
       "       -28.05919345, -26.736397  , -27.29149572, -27.81140329,\n",
       "       -27.69362154, -26.5626024 , -26.68408966, -26.59178765,\n",
       "       -26.95634525, -25.61659587, -25.19562503, -26.06866736,\n",
       "       -27.11184125, -29.12842714, -30.82269341, -30.60144229,\n",
       "       -31.33476276, -33.26731141, -31.63471504, -32.01128125,\n",
       "       -31.55903527, -31.20341921, -32.07623625, -31.4261026 ])"
      ]
     },
     "execution_count": 262,
     "metadata": {},
     "output_type": "execute_result"
    }
   ],
   "source": [
    "matarr = np.random.randn(20,20)\n",
    "print(matarr)\n",
    "matarr.cumsum()"
   ]
  },
  {
   "cell_type": "code",
   "execution_count": null,
   "metadata": {},
   "outputs": [],
   "source": []
  }
 ],
 "metadata": {
  "colab": {
   "name": "Numpy-Assignment-PIAIC-Batch35-Q2.ipynb",
   "provenance": []
  },
  "kernelspec": {
   "display_name": "Python 3",
   "language": "python",
   "name": "python3"
  },
  "language_info": {
   "codemirror_mode": {
    "name": "ipython",
    "version": 3
   },
   "file_extension": ".py",
   "mimetype": "text/x-python",
   "name": "python",
   "nbconvert_exporter": "python",
   "pygments_lexer": "ipython3",
   "version": "3.7.6"
  }
 },
 "nbformat": 4,
 "nbformat_minor": 1
}
